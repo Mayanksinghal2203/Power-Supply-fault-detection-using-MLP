{
 "cells": [
  {
   "cell_type": "code",
   "execution_count": 2,
   "id": "f8db4f38-ff5b-4add-93d3-6b357c2979fd",
   "metadata": {},
   "outputs": [
    {
     "name": "stdout",
     "output_type": "stream",
     "text": [
      " Volume in drive C is Windows\n",
      " Volume Serial Number is 32EA-CE9F\n",
      "\n",
      " Directory of C:\\Users\\HP\\Music\\tech resume projects\\DC to DC power supply fault prediction\n",
      "\n",
      "10-04-2025  00:15    <DIR>          .\n",
      "10-04-2025  00:14    <DIR>          ..\n",
      "10-04-2025  00:15    <DIR>          .ipynb_checkpoints\n",
      "10-04-2025  00:13           189,689 dc_dc_converter_simulated_data.csv\n",
      "10-04-2025  00:15               337 Untitled.ipynb\n",
      "               2 File(s)        190,026 bytes\n",
      "               3 Dir(s)  204,708,442,112 bytes free\n"
     ]
    }
   ],
   "source": [
    "ls"
   ]
  },
  {
   "cell_type": "code",
   "execution_count": 4,
   "id": "df2a0929-fc4c-4666-ad3f-2f1761a54894",
   "metadata": {},
   "outputs": [],
   "source": [
    "import numpy as np\n",
    "import seaborn as sns\n",
    "from matplotlib import pyplot as plt\n",
    "from sklearn.impute import SimpleImputer\n",
    "import pandas as pd"
   ]
  },
  {
   "cell_type": "code",
   "execution_count": 6,
   "id": "c7853166-7493-410f-9e71-a880b367445a",
   "metadata": {},
   "outputs": [],
   "source": [
    "data=pd.read_csv(\"dc_dc_converter_simulated_data.csv\")"
   ]
  },
  {
   "cell_type": "code",
   "execution_count": 18,
   "id": "fff0ef36-9ede-486f-8281-da5fe1912000",
   "metadata": {},
   "outputs": [
    {
     "data": {
      "text/html": [
       "<div>\n",
       "<style scoped>\n",
       "    .dataframe tbody tr th:only-of-type {\n",
       "        vertical-align: middle;\n",
       "    }\n",
       "\n",
       "    .dataframe tbody tr th {\n",
       "        vertical-align: top;\n",
       "    }\n",
       "\n",
       "    .dataframe thead th {\n",
       "        text-align: right;\n",
       "    }\n",
       "</style>\n",
       "<table border=\"1\" class=\"dataframe\">\n",
       "  <thead>\n",
       "    <tr style=\"text-align: right;\">\n",
       "      <th></th>\n",
       "      <th>Vin</th>\n",
       "      <th>DutyCycle</th>\n",
       "      <th>Vout</th>\n",
       "      <th>Iout</th>\n",
       "      <th>Temp</th>\n",
       "      <th>Condition</th>\n",
       "    </tr>\n",
       "  </thead>\n",
       "  <tbody>\n",
       "    <tr>\n",
       "      <th>0</th>\n",
       "      <td>12.529804</td>\n",
       "      <td>0.583063</td>\n",
       "      <td>7.262261</td>\n",
       "      <td>1.087942</td>\n",
       "      <td>30.894570</td>\n",
       "      <td>0</td>\n",
       "    </tr>\n",
       "    <tr>\n",
       "      <th>1</th>\n",
       "      <td>15.277982</td>\n",
       "      <td>0.869517</td>\n",
       "      <td>14.145995</td>\n",
       "      <td>2.485156</td>\n",
       "      <td>79.765066</td>\n",
       "      <td>1</td>\n",
       "    </tr>\n",
       "    <tr>\n",
       "      <th>2</th>\n",
       "      <td>17.521012</td>\n",
       "      <td>0.702169</td>\n",
       "      <td>12.775371</td>\n",
       "      <td>2.626097</td>\n",
       "      <td>67.831729</td>\n",
       "      <td>1</td>\n",
       "    </tr>\n",
       "    <tr>\n",
       "      <th>3</th>\n",
       "      <td>14.742691</td>\n",
       "      <td>0.681802</td>\n",
       "      <td>9.596749</td>\n",
       "      <td>3.003652</td>\n",
       "      <td>77.813581</td>\n",
       "      <td>1</td>\n",
       "    </tr>\n",
       "    <tr>\n",
       "      <th>4</th>\n",
       "      <td>11.996397</td>\n",
       "      <td>0.547656</td>\n",
       "      <td>6.238925</td>\n",
       "      <td>1.024288</td>\n",
       "      <td>42.824212</td>\n",
       "      <td>0</td>\n",
       "    </tr>\n",
       "  </tbody>\n",
       "</table>\n",
       "</div>"
      ],
      "text/plain": [
       "         Vin  DutyCycle       Vout      Iout       Temp  Condition\n",
       "0  12.529804   0.583063   7.262261  1.087942  30.894570          0\n",
       "1  15.277982   0.869517  14.145995  2.485156  79.765066          1\n",
       "2  17.521012   0.702169  12.775371  2.626097  67.831729          1\n",
       "3  14.742691   0.681802   9.596749  3.003652  77.813581          1\n",
       "4  11.996397   0.547656   6.238925  1.024288  42.824212          0"
      ]
     },
     "execution_count": 18,
     "metadata": {},
     "output_type": "execute_result"
    }
   ],
   "source": [
    "data.head()"
   ]
  },
  {
   "cell_type": "code",
   "execution_count": 10,
   "id": "da28022c-244f-4c78-adc7-593a7258b895",
   "metadata": {},
   "outputs": [
    {
     "name": "stdout",
     "output_type": "stream",
     "text": [
      "shape of data is :  (2000, 6)\n"
     ]
    }
   ],
   "source": [
    "print(\"shape of data is : \", data.shape)\n"
   ]
  },
  {
   "cell_type": "code",
   "execution_count": 12,
   "id": "25939158-0ac0-4d21-8c03-9b1f3c7be33e",
   "metadata": {},
   "outputs": [
    {
     "name": "stdout",
     "output_type": "stream",
     "text": [
      "<class 'pandas.core.frame.DataFrame'>\n",
      "RangeIndex: 2000 entries, 0 to 1999\n",
      "Data columns (total 6 columns):\n",
      " #   Column     Non-Null Count  Dtype  \n",
      "---  ------     --------------  -----  \n",
      " 0   Vin        2000 non-null   float64\n",
      " 1   DutyCycle  2000 non-null   float64\n",
      " 2   Vout       2000 non-null   float64\n",
      " 3   Iout       2000 non-null   float64\n",
      " 4   Temp       2000 non-null   float64\n",
      " 5   Condition  2000 non-null   int64  \n",
      "dtypes: float64(5), int64(1)\n",
      "memory usage: 93.9 KB\n"
     ]
    }
   ],
   "source": [
    "data.info()"
   ]
  },
  {
   "cell_type": "code",
   "execution_count": 16,
   "id": "ac631ba0-edb6-4589-b917-b66d17af3b55",
   "metadata": {},
   "outputs": [
    {
     "data": {
      "text/html": [
       "<div>\n",
       "<style scoped>\n",
       "    .dataframe tbody tr th:only-of-type {\n",
       "        vertical-align: middle;\n",
       "    }\n",
       "\n",
       "    .dataframe tbody tr th {\n",
       "        vertical-align: top;\n",
       "    }\n",
       "\n",
       "    .dataframe thead th {\n",
       "        text-align: right;\n",
       "    }\n",
       "</style>\n",
       "<table border=\"1\" class=\"dataframe\">\n",
       "  <thead>\n",
       "    <tr style=\"text-align: right;\">\n",
       "      <th></th>\n",
       "      <th>Vin</th>\n",
       "      <th>DutyCycle</th>\n",
       "      <th>Vout</th>\n",
       "      <th>Iout</th>\n",
       "      <th>Temp</th>\n",
       "      <th>Condition</th>\n",
       "    </tr>\n",
       "  </thead>\n",
       "  <tbody>\n",
       "    <tr>\n",
       "      <th>count</th>\n",
       "      <td>2000.000000</td>\n",
       "      <td>2000.000000</td>\n",
       "      <td>2000.000000</td>\n",
       "      <td>2000.000000</td>\n",
       "      <td>2000.000000</td>\n",
       "      <td>2000.000000</td>\n",
       "    </tr>\n",
       "    <tr>\n",
       "      <th>mean</th>\n",
       "      <td>13.962928</td>\n",
       "      <td>0.650363</td>\n",
       "      <td>9.372266</td>\n",
       "      <td>1.753649</td>\n",
       "      <td>54.816645</td>\n",
       "      <td>0.500000</td>\n",
       "    </tr>\n",
       "    <tr>\n",
       "      <th>std</th>\n",
       "      <td>2.507449</td>\n",
       "      <td>0.167514</td>\n",
       "      <td>3.766363</td>\n",
       "      <td>0.839193</td>\n",
       "      <td>16.907448</td>\n",
       "      <td>0.500125</td>\n",
       "    </tr>\n",
       "    <tr>\n",
       "      <th>min</th>\n",
       "      <td>8.758733</td>\n",
       "      <td>0.352981</td>\n",
       "      <td>3.832752</td>\n",
       "      <td>0.581672</td>\n",
       "      <td>24.116481</td>\n",
       "      <td>0.000000</td>\n",
       "    </tr>\n",
       "    <tr>\n",
       "      <th>25%</th>\n",
       "      <td>11.965219</td>\n",
       "      <td>0.503189</td>\n",
       "      <td>5.997844</td>\n",
       "      <td>0.999194</td>\n",
       "      <td>39.897599</td>\n",
       "      <td>0.000000</td>\n",
       "    </tr>\n",
       "    <tr>\n",
       "      <th>50%</th>\n",
       "      <td>13.302050</td>\n",
       "      <td>0.603285</td>\n",
       "      <td>7.900819</td>\n",
       "      <td>1.247020</td>\n",
       "      <td>49.879132</td>\n",
       "      <td>0.500000</td>\n",
       "    </tr>\n",
       "    <tr>\n",
       "      <th>75%</th>\n",
       "      <td>15.912811</td>\n",
       "      <td>0.794365</td>\n",
       "      <td>12.549562</td>\n",
       "      <td>2.509344</td>\n",
       "      <td>70.032749</td>\n",
       "      <td>1.000000</td>\n",
       "    </tr>\n",
       "    <tr>\n",
       "      <th>max</th>\n",
       "      <td>22.196599</td>\n",
       "      <td>1.152906</td>\n",
       "      <td>20.673371</td>\n",
       "      <td>4.188691</td>\n",
       "      <td>97.683736</td>\n",
       "      <td>1.000000</td>\n",
       "    </tr>\n",
       "  </tbody>\n",
       "</table>\n",
       "</div>"
      ],
      "text/plain": [
       "               Vin    DutyCycle         Vout         Iout         Temp  \\\n",
       "count  2000.000000  2000.000000  2000.000000  2000.000000  2000.000000   \n",
       "mean     13.962928     0.650363     9.372266     1.753649    54.816645   \n",
       "std       2.507449     0.167514     3.766363     0.839193    16.907448   \n",
       "min       8.758733     0.352981     3.832752     0.581672    24.116481   \n",
       "25%      11.965219     0.503189     5.997844     0.999194    39.897599   \n",
       "50%      13.302050     0.603285     7.900819     1.247020    49.879132   \n",
       "75%      15.912811     0.794365    12.549562     2.509344    70.032749   \n",
       "max      22.196599     1.152906    20.673371     4.188691    97.683736   \n",
       "\n",
       "         Condition  \n",
       "count  2000.000000  \n",
       "mean      0.500000  \n",
       "std       0.500125  \n",
       "min       0.000000  \n",
       "25%       0.000000  \n",
       "50%       0.500000  \n",
       "75%       1.000000  \n",
       "max       1.000000  "
      ]
     },
     "execution_count": 16,
     "metadata": {},
     "output_type": "execute_result"
    }
   ],
   "source": [
    "data.describe()"
   ]
  },
  {
   "cell_type": "code",
   "execution_count": 20,
   "id": "b2f12815-04bf-478a-98f0-b08847d44884",
   "metadata": {},
   "outputs": [
    {
     "data": {
      "text/plain": [
       "Vin          0\n",
       "DutyCycle    0\n",
       "Vout         0\n",
       "Iout         0\n",
       "Temp         0\n",
       "Condition    0\n",
       "dtype: int64"
      ]
     },
     "execution_count": 20,
     "metadata": {},
     "output_type": "execute_result"
    }
   ],
   "source": [
    "data.isna().sum()"
   ]
  },
  {
   "cell_type": "code",
   "execution_count": 22,
   "id": "8824957b-b6f9-4d95-a9c6-88a714bd2325",
   "metadata": {},
   "outputs": [
    {
     "data": {
      "text/plain": [
       "0"
      ]
     },
     "execution_count": 22,
     "metadata": {},
     "output_type": "execute_result"
    }
   ],
   "source": [
    "data.duplicated().sum()"
   ]
  },
  {
   "cell_type": "code",
   "execution_count": 34,
   "id": "0433504c-1946-48cd-9ea7-3cf6c0c62afd",
   "metadata": {},
   "outputs": [
    {
     "data": {
      "text/plain": [
       "Condition\n",
       "0    1000\n",
       "1    1000\n",
       "Name: count, dtype: int64"
      ]
     },
     "execution_count": 34,
     "metadata": {},
     "output_type": "execute_result"
    }
   ],
   "source": [
    "data[\"Condition\"].value_counts()"
   ]
  },
  {
   "cell_type": "code",
   "execution_count": 42,
   "id": "f9110328-10f2-4db8-a60a-056444456c07",
   "metadata": {},
   "outputs": [
    {
     "data": {
      "text/plain": [
       "<Axes: xlabel='Temp', ylabel='Count'>"
      ]
     },
     "execution_count": 42,
     "metadata": {},
     "output_type": "execute_result"
    },
    {
     "data": {
      "image/png": "[encoded data removed]",
      "text/plain": [
       "<Figure size 640x480 with 5 Axes>"
      ]
     },
     "metadata": {},
     "output_type": "display_data"
    }
   ],
   "source": [
    "plt.subplot(3,2,1)\n",
    "sns.histplot(data[\"Vin\"])\n",
    "plt.subplot(3,2,2)\n",
    "sns.histplot(data[\"DutyCycle\"])\n",
    "plt.subplot(3,2,3)\n",
    "sns.histplot(data[\"Vout\"])\n",
    "plt.subplot(3,2,4)\n",
    "sns.histplot(data[\"Iout\"])\n",
    "plt.subplot(3,2,5)\n",
    "sns.histplot(data[\"Temp\"])"
   ]
  },
  {
   "cell_type": "code",
   "execution_count": 44,
   "id": "1e7bb775-90c2-4cdd-bb1d-c0b46a90b57e",
   "metadata": {},
   "outputs": [
    {
     "data": {
      "text/plain": [
       "<Axes: ylabel='Temp'>"
      ]
     },
     "execution_count": 44,
     "metadata": {},
     "output_type": "execute_result"
    },
    {
     "data": {
      "image/png": "[encoded data removed]",
      "text/plain": [
       "<Figure size 640x480 with 5 Axes>"
      ]
     },
     "metadata": {},
     "output_type": "display_data"
    }
   ],
   "source": [
    "plt.subplot(3,2,1)\n",
    "sns.boxplot(data[\"Vin\"])\n",
    "plt.subplot(3,2,2)\n",
    "sns.boxplot(data[\"DutyCycle\"])\n",
    "plt.subplot(3,2,3)\n",
    "sns.boxplot(data[\"Vout\"])\n",
    "plt.subplot(3,2,4)\n",
    "sns.boxplot(data[\"Iout\"])\n",
    "plt.subplot(3,2,5)\n",
    "sns.boxplot(data[\"Temp\"])"
   ]
  },
  {
   "cell_type": "code",
   "execution_count": 46,
   "id": "43beb61b-9957-4abe-85d7-5076f6aff902",
   "metadata": {},
   "outputs": [
    {
     "data": {
      "text/html": [
       "<div>\n",
       "<style scoped>\n",
       "    .dataframe tbody tr th:only-of-type {\n",
       "        vertical-align: middle;\n",
       "    }\n",
       "\n",
       "    .dataframe tbody tr th {\n",
       "        vertical-align: top;\n",
       "    }\n",
       "\n",
       "    .dataframe thead th {\n",
       "        text-align: right;\n",
       "    }\n",
       "</style>\n",
       "<table border=\"1\" class=\"dataframe\">\n",
       "  <thead>\n",
       "    <tr style=\"text-align: right;\">\n",
       "      <th></th>\n",
       "      <th>Vin</th>\n",
       "      <th>DutyCycle</th>\n",
       "      <th>Vout</th>\n",
       "      <th>Iout</th>\n",
       "      <th>Temp</th>\n",
       "      <th>Condition</th>\n",
       "    </tr>\n",
       "  </thead>\n",
       "  <tbody>\n",
       "    <tr>\n",
       "      <th>Vin</th>\n",
       "      <td>1.000000</td>\n",
       "      <td>0.681014</td>\n",
       "      <td>0.885690</td>\n",
       "      <td>0.702201</td>\n",
       "      <td>0.683923</td>\n",
       "      <td>0.775323</td>\n",
       "    </tr>\n",
       "    <tr>\n",
       "      <th>DutyCycle</th>\n",
       "      <td>0.681014</td>\n",
       "      <td>1.000000</td>\n",
       "      <td>0.929033</td>\n",
       "      <td>0.788299</td>\n",
       "      <td>0.780521</td>\n",
       "      <td>0.876692</td>\n",
       "    </tr>\n",
       "    <tr>\n",
       "      <th>Vout</th>\n",
       "      <td>0.885690</td>\n",
       "      <td>0.929033</td>\n",
       "      <td>1.000000</td>\n",
       "      <td>0.797916</td>\n",
       "      <td>0.780949</td>\n",
       "      <td>0.881929</td>\n",
       "    </tr>\n",
       "    <tr>\n",
       "      <th>Iout</th>\n",
       "      <td>0.702201</td>\n",
       "      <td>0.788299</td>\n",
       "      <td>0.797916</td>\n",
       "      <td>1.000000</td>\n",
       "      <td>0.794770</td>\n",
       "      <td>0.900520</td>\n",
       "    </tr>\n",
       "    <tr>\n",
       "      <th>Temp</th>\n",
       "      <td>0.683923</td>\n",
       "      <td>0.780521</td>\n",
       "      <td>0.780949</td>\n",
       "      <td>0.794770</td>\n",
       "      <td>1.000000</td>\n",
       "      <td>0.891133</td>\n",
       "    </tr>\n",
       "    <tr>\n",
       "      <th>Condition</th>\n",
       "      <td>0.775323</td>\n",
       "      <td>0.876692</td>\n",
       "      <td>0.881929</td>\n",
       "      <td>0.900520</td>\n",
       "      <td>0.891133</td>\n",
       "      <td>1.000000</td>\n",
       "    </tr>\n",
       "  </tbody>\n",
       "</table>\n",
       "</div>"
      ],
      "text/plain": [
       "                Vin  DutyCycle      Vout      Iout      Temp  Condition\n",
       "Vin        1.000000   0.681014  0.885690  0.702201  0.683923   0.775323\n",
       "DutyCycle  0.681014   1.000000  0.929033  0.788299  0.780521   0.876692\n",
       "Vout       0.885690   0.929033  1.000000  0.797916  0.780949   0.881929\n",
       "Iout       0.702201   0.788299  0.797916  1.000000  0.794770   0.900520\n",
       "Temp       0.683923   0.780521  0.780949  0.794770  1.000000   0.891133\n",
       "Condition  0.775323   0.876692  0.881929  0.900520  0.891133   1.000000"
      ]
     },
     "execution_count": 46,
     "metadata": {},
     "output_type": "execute_result"
    }
   ],
   "source": [
    "data.corr()"
   ]
  },
  {
   "cell_type": "code",
   "execution_count": 51,
   "id": "32ee5f30-8d86-490c-a4c1-962bcf698a39",
   "metadata": {},
   "outputs": [
    {
     "data": {
      "text/plain": [
       "<Axes: >"
      ]
     },
     "execution_count": 51,
     "metadata": {},
     "output_type": "execute_result"
    },
    {
     "data": {
      "image/png": "[encoded data removed]",
      "text/plain": [
       "<Figure size 640x480 with 2 Axes>"
      ]
     },
     "metadata": {},
     "output_type": "display_data"
    }
   ],
   "source": [
    "sns.heatmap(data.corr(),annot=True)\n",
    "# to check correlation"
   ]
  },
  {
   "cell_type": "code",
   "execution_count": 55,
   "id": "aaf46a92-509b-475b-80f1-97d99e2ab312",
   "metadata": {},
   "outputs": [
    {
     "data": {
      "text/plain": [
       "<Axes: xlabel='Condition', ylabel='count'>"
      ]
     },
     "execution_count": 55,
     "metadata": {},
     "output_type": "execute_result"
    },
    {
     "data": {
      "image/png": "[encoded data removed]",
      "text/plain": [
       "<Figure size 640x480 with 1 Axes>"
      ]
     },
     "metadata": {},
     "output_type": "display_data"
    }
   ],
   "source": [
    "sns.countplot(data=data,x=\"Condition\")\n",
    "# To check does target is balanced or not"
   ]
  },
  {
   "cell_type": "code",
   "execution_count": 63,
   "id": "7b7a7e8e-1dce-45e5-8f3c-e05f5282f308",
   "metadata": {},
   "outputs": [],
   "source": [
    "feature=data.drop(columns={\"Condition\"})\n",
    "target=data[\"Condition\"]"
   ]
  },
  {
   "cell_type": "code",
   "execution_count": 69,
   "id": "796878ab-5334-4bfb-9cf6-f8463707c5dc",
   "metadata": {},
   "outputs": [],
   "source": [
    "# for scaling\n",
    "from sklearn.preprocessing import StandardScaler"
   ]
  },
  {
   "cell_type": "code",
   "execution_count": 71,
   "id": "385d7aaf-dc90-4760-9ed3-d7bd625cbcc7",
   "metadata": {},
   "outputs": [],
   "source": [
    "scaler=StandardScaler()\n",
    "x_scaled=scaler.fit_transform(feature)"
   ]
  },
  {
   "cell_type": "code",
   "execution_count": 75,
   "id": "f47dd3c9-3627-46ad-80ad-4fa3247cb0ba",
   "metadata": {},
   "outputs": [],
   "source": [
    "#for spliting test and trainging data\n",
    "from sklearn.model_selection import train_test_split"
   ]
  },
  {
   "cell_type": "code",
   "execution_count": 79,
   "id": "ae280f6a-0a64-48b3-8036-c0d5bc4a29d0",
   "metadata": {},
   "outputs": [],
   "source": [
    "X_train,X_test,Y_train,Y_test=train_test_split(x_scaled,target,test_size=0.2,random_state=42,stratify=target)"
   ]
  },
  {
   "cell_type": "code",
   "execution_count": 83,
   "id": "a0ac87b6-1e5c-4f35-aaf9-1261c6a418ae",
   "metadata": {},
   "outputs": [],
   "source": [
    "# for model \n",
    "import tensorflow as tf\n",
    "from tensorflow.keras.models import Sequential\n",
    "from tensorflow.keras.layers import Dense"
   ]
  },
  {
   "cell_type": "code",
   "execution_count": 101,
   "id": "0fcf0728-f5a7-49fb-8354-1ba950284219",
   "metadata": {},
   "outputs": [
    {
     "name": "stderr",
     "output_type": "stream",
     "text": [
      "C:\\Users\\HP\\anaconda3\\Lib\\site-packages\\keras\\src\\layers\\core\\dense.py:87: UserWarning: Do not pass an `input_shape`/`input_dim` argument to a layer. When using Sequential models, prefer using an `Input(shape)` object as the first layer in the model instead.\n",
      "  super().__init__(activity_regularizer=activity_regularizer, **kwargs)\n"
     ]
    }
   ],
   "source": [
    "model=Sequential([\n",
    "    Dense(64,activation=\"relu\",input_shape=(X_train.shape[1],)),\n",
    "    Dense(32,activation=\"relu\"),\n",
    "    Dense(1,activation=\"sigmoid\")\n",
    "])"
   ]
  },
  {
   "cell_type": "code",
   "execution_count": 106,
   "id": "5f70d6d8-0a30-4831-aac3-500e7e79d5ee",
   "metadata": {},
   "outputs": [],
   "source": [
    "model.compile(optimizer=\"adam\",loss=\"binary_crossentropy\",metrics=[\"accuracy\"])"
   ]
  },
  {
   "cell_type": "code",
   "execution_count": 108,
   "id": "ebbf6e7a-1db1-4474-b0c8-fed1defdfa64",
   "metadata": {},
   "outputs": [
    {
     "name": "stdout",
     "output_type": "stream",
     "text": [
      "Epoch 1/50\n",
      "\u001b[1m40/40\u001b[0m \u001b[32m━━━━━━━━━━━━━━━━━━━━\u001b[0m\u001b[37m\u001b[0m \u001b[1m2s\u001b[0m 12ms/step - accuracy: 0.7346 - loss: 0.4760 - val_accuracy: 1.0000 - val_loss: 0.1449\n",
      "Epoch 2/50\n",
      "\u001b[1m40/40\u001b[0m \u001b[32m━━━━━━━━━━━━━━━━━━━━\u001b[0m\u001b[37m\u001b[0m \u001b[1m0s\u001b[0m 5ms/step - accuracy: 0.9998 - loss: 0.0996 - val_accuracy: 1.0000 - val_loss: 0.0368\n",
      "Epoch 3/50\n",
      "\u001b[1m40/40\u001b[0m \u001b[32m━━━━━━━━━━━━━━━━━━━━\u001b[0m\u001b[37m\u001b[0m \u001b[1m0s\u001b[0m 5ms/step - accuracy: 0.9997 - loss: 0.0319 - val_accuracy: 1.0000 - val_loss: 0.0136\n",
      "Epoch 4/50\n",
      "\u001b[1m40/40\u001b[0m \u001b[32m━━━━━━━━━━━━━━━━━━━━\u001b[0m\u001b[37m\u001b[0m \u001b[1m0s\u001b[0m 5ms/step - accuracy: 0.9986 - loss: 0.0145 - val_accuracy: 1.0000 - val_loss: 0.0068\n",
      "Epoch 5/50\n",
      "\u001b[1m40/40\u001b[0m \u001b[32m━━━━━━━━━━━━━━━━━━━━\u001b[0m\u001b[37m\u001b[0m \u001b[1m0s\u001b[0m 5ms/step - accuracy: 0.9991 - loss: 0.0081 - val_accuracy: 1.0000 - val_loss: 0.0041\n",
      "Epoch 6/50\n",
      "\u001b[1m40/40\u001b[0m \u001b[32m━━━━━━━━━━━━━━━━━━━━\u001b[0m\u001b[37m\u001b[0m \u001b[1m0s\u001b[0m 5ms/step - accuracy: 1.0000 - loss: 0.0034 - val_accuracy: 1.0000 - val_loss: 0.0028\n",
      "Epoch 7/50\n",
      "\u001b[1m40/40\u001b[0m \u001b[32m━━━━━━━━━━━━━━━━━━━━\u001b[0m\u001b[37m\u001b[0m \u001b[1m0s\u001b[0m 5ms/step - accuracy: 1.0000 - loss: 0.0031 - val_accuracy: 1.0000 - val_loss: 0.0019\n",
      "Epoch 8/50\n",
      "\u001b[1m40/40\u001b[0m \u001b[32m━━━━━━━━━━━━━━━━━━━━\u001b[0m\u001b[37m\u001b[0m \u001b[1m0s\u001b[0m 5ms/step - accuracy: 1.0000 - loss: 0.0022 - val_accuracy: 1.0000 - val_loss: 0.0014\n",
      "Epoch 9/50\n",
      "\u001b[1m40/40\u001b[0m \u001b[32m━━━━━━━━━━━━━━━━━━━━\u001b[0m\u001b[37m\u001b[0m \u001b[1m0s\u001b[0m 5ms/step - accuracy: 1.0000 - loss: 0.0018 - val_accuracy: 1.0000 - val_loss: 0.0011\n",
      "Epoch 10/50\n",
      "\u001b[1m40/40\u001b[0m \u001b[32m━━━━━━━━━━━━━━━━━━━━\u001b[0m\u001b[37m\u001b[0m \u001b[1m0s\u001b[0m 5ms/step - accuracy: 1.0000 - loss: 0.0019 - val_accuracy: 1.0000 - val_loss: 8.7213e-04\n",
      "Epoch 11/50\n",
      "\u001b[1m40/40\u001b[0m \u001b[32m━━━━━━━━━━━━━━━━━━━━\u001b[0m\u001b[37m\u001b[0m \u001b[1m0s\u001b[0m 5ms/step - accuracy: 1.0000 - loss: 0.0011 - val_accuracy: 1.0000 - val_loss: 7.0720e-04\n",
      "Epoch 12/50\n",
      "\u001b[1m40/40\u001b[0m \u001b[32m━━━━━━━━━━━━━━━━━━━━\u001b[0m\u001b[37m\u001b[0m \u001b[1m0s\u001b[0m 6ms/step - accuracy: 1.0000 - loss: 8.8424e-04 - val_accuracy: 1.0000 - val_loss: 5.7726e-04\n",
      "Epoch 13/50\n",
      "\u001b[1m40/40\u001b[0m \u001b[32m━━━━━━━━━━━━━━━━━━━━\u001b[0m\u001b[37m\u001b[0m \u001b[1m0s\u001b[0m 5ms/step - accuracy: 1.0000 - loss: 8.7171e-04 - val_accuracy: 1.0000 - val_loss: 4.8244e-04\n",
      "Epoch 14/50\n",
      "\u001b[1m40/40\u001b[0m \u001b[32m━━━━━━━━━━━━━━━━━━━━\u001b[0m\u001b[37m\u001b[0m \u001b[1m0s\u001b[0m 5ms/step - accuracy: 1.0000 - loss: 7.8660e-04 - val_accuracy: 1.0000 - val_loss: 4.0885e-04\n",
      "Epoch 15/50\n",
      "\u001b[1m40/40\u001b[0m \u001b[32m━━━━━━━━━━━━━━━━━━━━\u001b[0m\u001b[37m\u001b[0m \u001b[1m0s\u001b[0m 5ms/step - accuracy: 1.0000 - loss: 8.1709e-04 - val_accuracy: 1.0000 - val_loss: 3.4696e-04\n",
      "Epoch 16/50\n",
      "\u001b[1m40/40\u001b[0m \u001b[32m━━━━━━━━━━━━━━━━━━━━\u001b[0m\u001b[37m\u001b[0m \u001b[1m0s\u001b[0m 5ms/step - accuracy: 1.0000 - loss: 4.8270e-04 - val_accuracy: 1.0000 - val_loss: 3.0046e-04\n",
      "Epoch 17/50\n",
      "\u001b[1m40/40\u001b[0m \u001b[32m━━━━━━━━━━━━━━━━━━━━\u001b[0m\u001b[37m\u001b[0m \u001b[1m0s\u001b[0m 5ms/step - accuracy: 1.0000 - loss: 3.7299e-04 - val_accuracy: 1.0000 - val_loss: 2.6031e-04\n",
      "Epoch 18/50\n",
      "\u001b[1m40/40\u001b[0m \u001b[32m━━━━━━━━━━━━━━━━━━━━\u001b[0m\u001b[37m\u001b[0m \u001b[1m0s\u001b[0m 5ms/step - accuracy: 1.0000 - loss: 4.4966e-04 - val_accuracy: 1.0000 - val_loss: 2.2647e-04\n",
      "Epoch 19/50\n",
      "\u001b[1m40/40\u001b[0m \u001b[32m━━━━━━━━━━━━━━━━━━━━\u001b[0m\u001b[37m\u001b[0m \u001b[1m0s\u001b[0m 6ms/step - accuracy: 1.0000 - loss: 5.0783e-04 - val_accuracy: 1.0000 - val_loss: 2.0010e-04\n",
      "Epoch 20/50\n",
      "\u001b[1m40/40\u001b[0m \u001b[32m━━━━━━━━━━━━━━━━━━━━\u001b[0m\u001b[37m\u001b[0m \u001b[1m0s\u001b[0m 5ms/step - accuracy: 1.0000 - loss: 5.0332e-04 - val_accuracy: 1.0000 - val_loss: 1.7650e-04\n",
      "Epoch 21/50\n",
      "\u001b[1m40/40\u001b[0m \u001b[32m━━━━━━━━━━━━━━━━━━━━\u001b[0m\u001b[37m\u001b[0m \u001b[1m0s\u001b[0m 6ms/step - accuracy: 1.0000 - loss: 3.1742e-04 - val_accuracy: 1.0000 - val_loss: 1.5901e-04\n",
      "Epoch 22/50\n",
      "\u001b[1m40/40\u001b[0m \u001b[32m━━━━━━━━━━━━━━━━━━━━\u001b[0m\u001b[37m\u001b[0m \u001b[1m0s\u001b[0m 5ms/step - accuracy: 1.0000 - loss: 2.3830e-04 - val_accuracy: 1.0000 - val_loss: 1.4016e-04\n",
      "Epoch 23/50\n",
      "\u001b[1m40/40\u001b[0m \u001b[32m━━━━━━━━━━━━━━━━━━━━\u001b[0m\u001b[37m\u001b[0m \u001b[1m0s\u001b[0m 5ms/step - accuracy: 1.0000 - loss: 1.7853e-04 - val_accuracy: 1.0000 - val_loss: 1.2729e-04\n",
      "Epoch 24/50\n",
      "\u001b[1m40/40\u001b[0m \u001b[32m━━━━━━━━━━━━━━━━━━━━\u001b[0m\u001b[37m\u001b[0m \u001b[1m0s\u001b[0m 5ms/step - accuracy: 1.0000 - loss: 3.5819e-04 - val_accuracy: 1.0000 - val_loss: 1.1453e-04\n",
      "Epoch 25/50\n",
      "\u001b[1m40/40\u001b[0m \u001b[32m━━━━━━━━━━━━━━━━━━━━\u001b[0m\u001b[37m\u001b[0m \u001b[1m0s\u001b[0m 5ms/step - accuracy: 1.0000 - loss: 2.1385e-04 - val_accuracy: 1.0000 - val_loss: 1.0415e-04\n",
      "Epoch 26/50\n",
      "\u001b[1m40/40\u001b[0m \u001b[32m━━━━━━━━━━━━━━━━━━━━\u001b[0m\u001b[37m\u001b[0m \u001b[1m0s\u001b[0m 5ms/step - accuracy: 1.0000 - loss: 3.7059e-04 - val_accuracy: 1.0000 - val_loss: 9.4297e-05\n",
      "Epoch 27/50\n",
      "\u001b[1m40/40\u001b[0m \u001b[32m━━━━━━━━━━━━━━━━━━━━\u001b[0m\u001b[37m\u001b[0m \u001b[1m0s\u001b[0m 4ms/step - accuracy: 1.0000 - loss: 2.0466e-04 - val_accuracy: 1.0000 - val_loss: 8.5276e-05\n",
      "Epoch 28/50\n",
      "\u001b[1m40/40\u001b[0m \u001b[32m━━━━━━━━━━━━━━━━━━━━\u001b[0m\u001b[37m\u001b[0m \u001b[1m0s\u001b[0m 6ms/step - accuracy: 1.0000 - loss: 1.9746e-04 - val_accuracy: 1.0000 - val_loss: 7.8130e-05\n",
      "Epoch 29/50\n",
      "\u001b[1m40/40\u001b[0m \u001b[32m━━━━━━━━━━━━━━━━━━━━\u001b[0m\u001b[37m\u001b[0m \u001b[1m0s\u001b[0m 4ms/step - accuracy: 1.0000 - loss: 3.1771e-04 - val_accuracy: 1.0000 - val_loss: 7.1740e-05\n",
      "Epoch 30/50\n",
      "\u001b[1m40/40\u001b[0m \u001b[32m━━━━━━━━━━━━━━━━━━━━\u001b[0m\u001b[37m\u001b[0m \u001b[1m0s\u001b[0m 4ms/step - accuracy: 1.0000 - loss: 2.9134e-04 - val_accuracy: 1.0000 - val_loss: 6.5860e-05\n",
      "Epoch 31/50\n",
      "\u001b[1m40/40\u001b[0m \u001b[32m━━━━━━━━━━━━━━━━━━━━\u001b[0m\u001b[37m\u001b[0m \u001b[1m0s\u001b[0m 4ms/step - accuracy: 1.0000 - loss: 1.6801e-04 - val_accuracy: 1.0000 - val_loss: 6.0695e-05\n",
      "Epoch 32/50\n",
      "\u001b[1m40/40\u001b[0m \u001b[32m━━━━━━━━━━━━━━━━━━━━\u001b[0m\u001b[37m\u001b[0m \u001b[1m0s\u001b[0m 4ms/step - accuracy: 1.0000 - loss: 1.0781e-04 - val_accuracy: 1.0000 - val_loss: 5.5892e-05\n",
      "Epoch 33/50\n",
      "\u001b[1m40/40\u001b[0m \u001b[32m━━━━━━━━━━━━━━━━━━━━\u001b[0m\u001b[37m\u001b[0m \u001b[1m0s\u001b[0m 4ms/step - accuracy: 1.0000 - loss: 1.3516e-04 - val_accuracy: 1.0000 - val_loss: 5.1827e-05\n",
      "Epoch 34/50\n",
      "\u001b[1m40/40\u001b[0m \u001b[32m━━━━━━━━━━━━━━━━━━━━\u001b[0m\u001b[37m\u001b[0m \u001b[1m0s\u001b[0m 4ms/step - accuracy: 1.0000 - loss: 1.5509e-04 - val_accuracy: 1.0000 - val_loss: 4.7908e-05\n",
      "Epoch 35/50\n",
      "\u001b[1m40/40\u001b[0m \u001b[32m━━━━━━━━━━━━━━━━━━━━\u001b[0m\u001b[37m\u001b[0m \u001b[1m0s\u001b[0m 4ms/step - accuracy: 1.0000 - loss: 9.4512e-05 - val_accuracy: 1.0000 - val_loss: 4.4415e-05\n",
      "Epoch 36/50\n",
      "\u001b[1m40/40\u001b[0m \u001b[32m━━━━━━━━━━━━━━━━━━━━\u001b[0m\u001b[37m\u001b[0m \u001b[1m0s\u001b[0m 4ms/step - accuracy: 1.0000 - loss: 1.2534e-04 - val_accuracy: 1.0000 - val_loss: 4.1597e-05\n",
      "Epoch 37/50\n",
      "\u001b[1m40/40\u001b[0m \u001b[32m━━━━━━━━━━━━━━━━━━━━\u001b[0m\u001b[37m\u001b[0m \u001b[1m0s\u001b[0m 4ms/step - accuracy: 1.0000 - loss: 1.1872e-04 - val_accuracy: 1.0000 - val_loss: 3.8760e-05\n",
      "Epoch 38/50\n",
      "\u001b[1m40/40\u001b[0m \u001b[32m━━━━━━━━━━━━━━━━━━━━\u001b[0m\u001b[37m\u001b[0m \u001b[1m0s\u001b[0m 4ms/step - accuracy: 1.0000 - loss: 2.0662e-04 - val_accuracy: 1.0000 - val_loss: 3.6175e-05\n",
      "Epoch 39/50\n",
      "\u001b[1m40/40\u001b[0m \u001b[32m━━━━━━━━━━━━━━━━━━━━\u001b[0m\u001b[37m\u001b[0m \u001b[1m0s\u001b[0m 4ms/step - accuracy: 1.0000 - loss: 1.1400e-04 - val_accuracy: 1.0000 - val_loss: 3.3800e-05\n",
      "Epoch 40/50\n",
      "\u001b[1m40/40\u001b[0m \u001b[32m━━━━━━━━━━━━━━━━━━━━\u001b[0m\u001b[37m\u001b[0m \u001b[1m0s\u001b[0m 4ms/step - accuracy: 1.0000 - loss: 1.1756e-04 - val_accuracy: 1.0000 - val_loss: 3.1739e-05\n",
      "Epoch 41/50\n",
      "\u001b[1m40/40\u001b[0m \u001b[32m━━━━━━━━━━━━━━━━━━━━\u001b[0m\u001b[37m\u001b[0m \u001b[1m0s\u001b[0m 4ms/step - accuracy: 1.0000 - loss: 9.3718e-05 - val_accuracy: 1.0000 - val_loss: 2.9593e-05\n",
      "Epoch 42/50\n",
      "\u001b[1m40/40\u001b[0m \u001b[32m━━━━━━━━━━━━━━━━━━━━\u001b[0m\u001b[37m\u001b[0m \u001b[1m0s\u001b[0m 5ms/step - accuracy: 1.0000 - loss: 9.8999e-05 - val_accuracy: 1.0000 - val_loss: 2.7935e-05\n",
      "Epoch 43/50\n",
      "\u001b[1m40/40\u001b[0m \u001b[32m━━━━━━━━━━━━━━━━━━━━\u001b[0m\u001b[37m\u001b[0m \u001b[1m0s\u001b[0m 4ms/step - accuracy: 1.0000 - loss: 8.1891e-05 - val_accuracy: 1.0000 - val_loss: 2.6056e-05\n",
      "Epoch 44/50\n",
      "\u001b[1m40/40\u001b[0m \u001b[32m━━━━━━━━━━━━━━━━━━━━\u001b[0m\u001b[37m\u001b[0m \u001b[1m0s\u001b[0m 4ms/step - accuracy: 1.0000 - loss: 1.2589e-04 - val_accuracy: 1.0000 - val_loss: 2.4531e-05\n",
      "Epoch 45/50\n",
      "\u001b[1m40/40\u001b[0m \u001b[32m━━━━━━━━━━━━━━━━━━━━\u001b[0m\u001b[37m\u001b[0m \u001b[1m0s\u001b[0m 4ms/step - accuracy: 1.0000 - loss: 4.9572e-05 - val_accuracy: 1.0000 - val_loss: 2.3086e-05\n",
      "Epoch 46/50\n",
      "\u001b[1m40/40\u001b[0m \u001b[32m━━━━━━━━━━━━━━━━━━━━\u001b[0m\u001b[37m\u001b[0m \u001b[1m0s\u001b[0m 4ms/step - accuracy: 1.0000 - loss: 5.4395e-05 - val_accuracy: 1.0000 - val_loss: 2.1932e-05\n",
      "Epoch 47/50\n",
      "\u001b[1m40/40\u001b[0m \u001b[32m━━━━━━━━━━━━━━━━━━━━\u001b[0m\u001b[37m\u001b[0m \u001b[1m0s\u001b[0m 4ms/step - accuracy: 1.0000 - loss: 7.4887e-05 - val_accuracy: 1.0000 - val_loss: 2.0459e-05\n",
      "Epoch 48/50\n",
      "\u001b[1m40/40\u001b[0m \u001b[32m━━━━━━━━━━━━━━━━━━━━\u001b[0m\u001b[37m\u001b[0m \u001b[1m0s\u001b[0m 4ms/step - accuracy: 1.0000 - loss: 3.0969e-05 - val_accuracy: 1.0000 - val_loss: 1.9504e-05\n",
      "Epoch 49/50\n",
      "\u001b[1m40/40\u001b[0m \u001b[32m━━━━━━━━━━━━━━━━━━━━\u001b[0m\u001b[37m\u001b[0m \u001b[1m0s\u001b[0m 4ms/step - accuracy: 1.0000 - loss: 4.9799e-05 - val_accuracy: 1.0000 - val_loss: 1.8356e-05\n",
      "Epoch 50/50\n",
      "\u001b[1m40/40\u001b[0m \u001b[32m━━━━━━━━━━━━━━━━━━━━\u001b[0m\u001b[37m\u001b[0m \u001b[1m0s\u001b[0m 4ms/step - accuracy: 1.0000 - loss: 6.7094e-05 - val_accuracy: 1.0000 - val_loss: 1.7352e-05\n"
     ]
    }
   ],
   "source": [
    "history=model.fit(X_train,Y_train,validation_split=0.2,epochs=50,batch_size=32,verbose=1)"
   ]
  },
  {
   "cell_type": "code",
   "execution_count": 112,
   "id": "20a204b5-6be1-4247-93e1-a55598f8411a",
   "metadata": {},
   "outputs": [
    {
     "data": {
      "text/plain": [
       "{'accuracy': [0.8890625238418579,\n",
       "  0.999218761920929,\n",
       "  0.999218761920929,\n",
       "  0.999218761920929,\n",
       "  0.999218761920929,\n",
       "  1.0,\n",
       "  1.0,\n",
       "  1.0,\n",
       "  1.0,\n",
       "  1.0,\n",
       "  1.0,\n",
       "  1.0,\n",
       "  1.0,\n",
       "  1.0,\n",
       "  1.0,\n",
       "  1.0,\n",
       "  1.0,\n",
       "  1.0,\n",
       "  1.0,\n",
       "  1.0,\n",
       "  1.0,\n",
       "  1.0,\n",
       "  1.0,\n",
       "  1.0,\n",
       "  1.0,\n",
       "  1.0,\n",
       "  1.0,\n",
       "  1.0,\n",
       "  1.0,\n",
       "  1.0,\n",
       "  1.0,\n",
       "  1.0,\n",
       "  1.0,\n",
       "  1.0,\n",
       "  1.0,\n",
       "  1.0,\n",
       "  1.0,\n",
       "  1.0,\n",
       "  1.0,\n",
       "  1.0,\n",
       "  1.0,\n",
       "  1.0,\n",
       "  1.0,\n",
       "  1.0,\n",
       "  1.0,\n",
       "  1.0,\n",
       "  1.0,\n",
       "  1.0,\n",
       "  1.0,\n",
       "  1.0],\n",
       " 'loss': [0.3444562256336212,\n",
       "  0.07378651201725006,\n",
       "  0.023290542885661125,\n",
       "  0.010490180924534798,\n",
       "  0.0061594839207828045,\n",
       "  0.004148132633417845,\n",
       "  0.003064478747546673,\n",
       "  0.0023690080270171165,\n",
       "  0.0018934819381684065,\n",
       "  0.001554837916046381,\n",
       "  0.0013010798720642924,\n",
       "  0.0011054995702579618,\n",
       "  0.0009456205298192799,\n",
       "  0.0008202774333767593,\n",
       "  0.0007270656060427427,\n",
       "  0.0006356664816848934,\n",
       "  0.0005656256689690053,\n",
       "  0.0005058430251665413,\n",
       "  0.0004573483602143824,\n",
       "  0.00040874112164601684,\n",
       "  0.00037062432966195047,\n",
       "  0.0003368343459442258,\n",
       "  0.0003049649822060019,\n",
       "  0.00028327287873253226,\n",
       "  0.0002577124396339059,\n",
       "  0.00023653237440157682,\n",
       "  0.00021876662503927946,\n",
       "  0.0002017051010625437,\n",
       "  0.00018736746278591454,\n",
       "  0.00017467260477133095,\n",
       "  0.00016136083286255598,\n",
       "  0.00015029737551230937,\n",
       "  0.00014158603153191507,\n",
       "  0.00013169823796488345,\n",
       "  0.0001233210350619629,\n",
       "  0.0001159840467153117,\n",
       "  0.00010880916670430452,\n",
       "  0.00010209715401288122,\n",
       "  9.614669397706166e-05,\n",
       "  9.099719318328425e-05,\n",
       "  8.590162906330079e-05,\n",
       "  8.120109123410657e-05,\n",
       "  7.679763075429946e-05,\n",
       "  7.307033229153603e-05,\n",
       "  6.93103575031273e-05,\n",
       "  6.560284964507446e-05,\n",
       "  6.249565922189504e-05,\n",
       "  5.913387212785892e-05,\n",
       "  5.6543602113379166e-05,\n",
       "  5.420801608124748e-05],\n",
       " 'val_accuracy': [1.0,\n",
       "  1.0,\n",
       "  1.0,\n",
       "  1.0,\n",
       "  1.0,\n",
       "  1.0,\n",
       "  1.0,\n",
       "  1.0,\n",
       "  1.0,\n",
       "  1.0,\n",
       "  1.0,\n",
       "  1.0,\n",
       "  1.0,\n",
       "  1.0,\n",
       "  1.0,\n",
       "  1.0,\n",
       "  1.0,\n",
       "  1.0,\n",
       "  1.0,\n",
       "  1.0,\n",
       "  1.0,\n",
       "  1.0,\n",
       "  1.0,\n",
       "  1.0,\n",
       "  1.0,\n",
       "  1.0,\n",
       "  1.0,\n",
       "  1.0,\n",
       "  1.0,\n",
       "  1.0,\n",
       "  1.0,\n",
       "  1.0,\n",
       "  1.0,\n",
       "  1.0,\n",
       "  1.0,\n",
       "  1.0,\n",
       "  1.0,\n",
       "  1.0,\n",
       "  1.0,\n",
       "  1.0,\n",
       "  1.0,\n",
       "  1.0,\n",
       "  1.0,\n",
       "  1.0,\n",
       "  1.0,\n",
       "  1.0,\n",
       "  1.0,\n",
       "  1.0,\n",
       "  1.0,\n",
       "  1.0],\n",
       " 'val_loss': [0.14490623772144318,\n",
       "  0.036778561770915985,\n",
       "  0.013570037670433521,\n",
       "  0.0068365661427378654,\n",
       "  0.0040934220887720585,\n",
       "  0.0027684092056006193,\n",
       "  0.0019381351303309202,\n",
       "  0.0014318397734314203,\n",
       "  0.0010947079863399267,\n",
       "  0.0008721306221559644,\n",
       "  0.0007072045700624585,\n",
       "  0.0005772614385932684,\n",
       "  0.00048243519267998636,\n",
       "  0.0004088477580808103,\n",
       "  0.00034696253715083003,\n",
       "  0.000300464074825868,\n",
       "  0.0002603083266876638,\n",
       "  0.00022646556317340583,\n",
       "  0.0002001029934035614,\n",
       "  0.00017650055815465748,\n",
       "  0.0001590078609297052,\n",
       "  0.00014015677152201533,\n",
       "  0.00012729241279885173,\n",
       "  0.00011452678882051259,\n",
       "  0.000104150538390968,\n",
       "  9.42972328630276e-05,\n",
       "  8.527584577677771e-05,\n",
       "  7.81301932875067e-05,\n",
       "  7.173958874773234e-05,\n",
       "  6.586044037248939e-05,\n",
       "  6.069546361686662e-05,\n",
       "  5.5892196542117745e-05,\n",
       "  5.182665336178616e-05,\n",
       "  4.7908433771226555e-05,\n",
       "  4.4414842705009505e-05,\n",
       "  4.1597013478167355e-05,\n",
       "  3.876005575875752e-05,\n",
       "  3.6175169952912256e-05,\n",
       "  3.3800046367105097e-05,\n",
       "  3.173892037011683e-05,\n",
       "  2.9592536520794965e-05,\n",
       "  2.7935044272453524e-05,\n",
       "  2.60560009337496e-05,\n",
       "  2.453106026223395e-05,\n",
       "  2.308621878910344e-05,\n",
       "  2.1931551600573584e-05,\n",
       "  2.045947258011438e-05,\n",
       "  1.9504035662976094e-05,\n",
       "  1.8355891370447353e-05,\n",
       "  1.73521984834224e-05]}"
      ]
     },
     "execution_count": 112,
     "metadata": {},
     "output_type": "execute_result"
    }
   ],
   "source": [
    "history.history"
   ]
  },
  {
   "cell_type": "code",
   "execution_count": 114,
   "id": "63f0cf9b-6f39-407e-a4c9-188231495654",
   "metadata": {},
   "outputs": [],
   "source": [
    "history_data=pd.DataFrame(history.history)"
   ]
  },
  {
   "cell_type": "code",
   "execution_count": 122,
   "id": "ec0c7ac6-0f51-4112-a60c-15d6c8f80d1b",
   "metadata": {},
   "outputs": [
    {
     "data": {
      "text/plain": [
       "Text(0, 0.5, 'Accuracy')"
      ]
     },
     "execution_count": 122,
     "metadata": {},
     "output_type": "execute_result"
    },
    {
     "data": {
      "image/png": "[encoded data removed]",
      "text/plain": [
       "<Figure size 640x480 with 1 Axes>"
      ]
     },
     "metadata": {},
     "output_type": "display_data"
    }
   ],
   "source": [
    "sns.lineplot(history_data[[\"accuracy\",\"val_accuracy\"]])\n",
    "plt.xlabel(\"Epochs\")\n",
    "plt.ylabel(\"Accuracy\")"
   ]
  },
  {
   "cell_type": "code",
   "execution_count": 126,
   "id": "c6521c1a-635a-47ba-9f1b-3467d106ba03",
   "metadata": {},
   "outputs": [
    {
     "data": {
      "text/plain": [
       "Text(0, 0.5, 'loss')"
      ]
     },
     "execution_count": 126,
     "metadata": {},
     "output_type": "execute_result"
    },
    {
     "data": {
      "image/png": "[encoded data removed]",
      "text/plain": [
       "<Figure size 640x480 with 1 Axes>"
      ]
     },
     "metadata": {},
     "output_type": "display_data"
    }
   ],
   "source": [
    "sns.lineplot(history_data[[\"loss\",\"val_loss\"]])\n",
    "plt.xlabel(\"epochs\")\n",
    "plt.ylabel(\"loss\")"
   ]
  },
  {
   "cell_type": "code",
   "execution_count": 130,
   "id": "aef0e176-08f1-44b1-99f2-a6f1b0119e6a",
   "metadata": {},
   "outputs": [
    {
     "name": "stdout",
     "output_type": "stream",
     "text": [
      "\u001b[1m13/13\u001b[0m \u001b[32m━━━━━━━━━━━━━━━━━━━━\u001b[0m\u001b[37m\u001b[0m \u001b[1m0s\u001b[0m 6ms/step - accuracy: 1.0000 - loss: 2.0689e-05 \n"
     ]
    }
   ],
   "source": [
    "loss,accuracy=model.evaluate(X_test,Y_test)"
   ]
  },
  {
   "cell_type": "code",
   "execution_count": 138,
   "id": "8b696aee-665e-4ffb-a52b-ebbbeec46409",
   "metadata": {},
   "outputs": [
    {
     "name": "stdout",
     "output_type": "stream",
     "text": [
      "model accuracy is  1.0\n"
     ]
    }
   ],
   "source": [
    "print(\"model accuracy is \",accuracy)\n"
   ]
  },
  {
   "cell_type": "code",
   "execution_count": 144,
   "id": "04ec0cbb-54bd-4d04-8312-3761dfb3cb37",
   "metadata": {},
   "outputs": [],
   "source": [
    "from sklearn.metrics import confusion_matrix"
   ]
  },
  {
   "cell_type": "code",
   "execution_count": 148,
   "id": "ebfc62b3-a324-4083-81b4-feba530e04aa",
   "metadata": {},
   "outputs": [
    {
     "name": "stdout",
     "output_type": "stream",
     "text": [
      "\u001b[1m13/13\u001b[0m \u001b[32m━━━━━━━━━━━━━━━━━━━━\u001b[0m\u001b[37m\u001b[0m \u001b[1m0s\u001b[0m 3ms/step \n"
     ]
    },
    {
     "data": {
      "text/plain": [
       "Text(0.5, 1.0, 'Confusion Matrix')"
      ]
     },
     "execution_count": 148,
     "metadata": {},
     "output_type": "execute_result"
    },
    {
     "data": {
      "image/png": "[encoded data removed]",
      "text/plain": [
       "<Figure size 640x480 with 1 Axes>"
      ]
     },
     "metadata": {},
     "output_type": "display_data"
    }
   ],
   "source": [
    "y_pred_probs = model.predict(X_test)\n",
    "y_pred = (y_pred_probs > 0.5).astype(\"int32\")\n",
    "cm = confusion_matrix(Y_test, y_pred)\n",
    "sns.heatmap(cm, annot=True, fmt='d', cmap='Purples', cbar=False)\n",
    "plt.xlabel(\"Predicted\")\n",
    "plt.ylabel(\"Actual\")\n",
    "plt.title(\"Confusion Matrix\")"
   ]
  },
  {
   "cell_type": "code",
   "execution_count": 152,
   "id": "cba933c0-cb53-4a26-a6f9-fb5e6f3c641e",
   "metadata": {},
   "outputs": [
    {
     "name": "stdout",
     "output_type": "stream",
     "text": [
      "              precision    recall  f1-score   support\n",
      "\n",
      "           0       1.00      1.00      1.00       200\n",
      "           1       1.00      1.00      1.00       200\n",
      "\n",
      "    accuracy                           1.00       400\n",
      "   macro avg       1.00      1.00      1.00       400\n",
      "weighted avg       1.00      1.00      1.00       400\n",
      "\n"
     ]
    }
   ],
   "source": [
    "from sklearn.metrics import classification_report\n",
    "print(classification_report(Y_test, y_pred))"
   ]
  },
  {
   "cell_type": "code",
   "execution_count": null,
   "id": "5bd7346d-43c4-495c-b010-2ccc1d048369",
   "metadata": {},
   "outputs": [],
   "source": []
  }
 ],
 "metadata": {
  "kernelspec": {
   "display_name": "Python [conda env:base] *",
   "language": "python",
   "name": "conda-base-py"
  },
  "language_info": {
   "codemirror_mode": {
    "name": "ipython",
    "version": 3
   },
   "file_extension": ".py",
   "mimetype": "text/x-python",
   "name": "python",
   "nbconvert_exporter": "python",
   "pygments_lexer": "ipython3",
   "version": "3.12.7"
  }
 },
 "nbformat": 4,
 "nbformat_minor": 5
}
